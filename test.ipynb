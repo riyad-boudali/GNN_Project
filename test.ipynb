{
 "cells": [
  {
   "cell_type": "code",
   "execution_count": 2,
   "metadata": {},
   "outputs": [],
   "source": [
    "import pandas as pd\n",
    "\n",
    "data = pd.read_csv(\"data/raw/HIV_test.csv\")"
   ]
  },
  {
   "cell_type": "code",
   "execution_count": 5,
   "metadata": {},
   "outputs": [
    {
     "name": "stdout",
     "output_type": "stream",
     "text": [
      "HIV_active\n",
      "0    3832\n",
      "1     165\n",
      "Name: count, dtype: int64\n"
     ]
    }
   ],
   "source": [
    "positive_negative_counts = data['HIV_active'].value_counts()\n",
    "print(positive_negative_counts)"
   ]
  },
  {
   "cell_type": "code",
   "execution_count": 6,
   "metadata": {},
   "outputs": [
    {
     "name": "stdout",
     "output_type": "stream",
     "text": [
      "HIV_active\n",
      "0    35848\n",
      "1     1278\n",
      "Name: count, dtype: int64\n"
     ]
    }
   ],
   "source": [
    "train_data =pd.read_csv(\"data/raw/HIV_train.csv\")\n",
    "positive_negative_counts = train_data['HIV_active'].value_counts()\n",
    "print(positive_negative_counts)"
   ]
  },
  {
   "cell_type": "code",
   "execution_count": 7,
   "metadata": {},
   "outputs": [
    {
     "name": "stdout",
     "output_type": "stream",
     "text": [
      "HIV_active\n",
      "0    35845\n",
      "1    35784\n",
      "Name: count, dtype: int64\n"
     ]
    }
   ],
   "source": [
    "train_data_oversampled =pd.read_csv(\"data/raw/HIV_train_oversampled.csv\")\n",
    "positive_negative_counts = train_data_oversampled['HIV_active'].value_counts()\n",
    "print(positive_negative_counts)"
   ]
  },
  {
   "cell_type": "code",
   "execution_count": 13,
   "metadata": {},
   "outputs": [
    {
     "name": "stdout",
     "output_type": "stream",
     "text": [
      "37123\n"
     ]
    }
   ],
   "source": [
    "unique_smiles_count = train_data_oversampled['smiles'].nunique()\n",
    "print(unique_smiles_count)"
   ]
  }
 ],
 "metadata": {
  "kernelspec": {
   "display_name": "Python 3",
   "language": "python",
   "name": "python3"
  },
  "language_info": {
   "codemirror_mode": {
    "name": "ipython",
    "version": 3
   },
   "file_extension": ".py",
   "mimetype": "text/x-python",
   "name": "python",
   "nbconvert_exporter": "python",
   "pygments_lexer": "ipython3",
   "version": "3.12.8"
  }
 },
 "nbformat": 4,
 "nbformat_minor": 2
}
